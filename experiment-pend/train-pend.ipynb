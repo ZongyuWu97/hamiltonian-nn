{
 "cells": [
  {
   "cell_type": "markdown",
   "metadata": {},
   "source": [
    "## Initialization"
   ]
  },
  {
   "cell_type": "code",
   "execution_count": 6,
   "metadata": {},
   "outputs": [],
   "source": [
    "import sys\n",
    "import os\n",
    "\n",
    "# Add the parent directory to sys.path\n",
    "sys.path.append(os.path.abspath(os.path.join('..')))\n",
    "import torch\n",
    "from kar_hnn import KARHNN\n",
    "from data import get_dataset"
   ]
  },
  {
   "cell_type": "markdown",
   "metadata": {},
   "source": [
    "## Help Functions"
   ]
  },
  {
   "cell_type": "code",
   "execution_count": 7,
   "metadata": {},
   "outputs": [],
   "source": [
    "# print squared loss at specific steps for comparison with HNN\n",
    "print_every = 200\n",
    "def print_results(results, print_every=200):\n",
    "    for step in range(0, len(results[\"train_loss\"]), print_every):\n",
    "        print(\n",
    "            \"step {}, train_loss {:.4e}, test_loss {:.4e}\".format(\n",
    "                step,\n",
    "                results[\"train_loss\"][step],\n",
    "                results[\"test_loss\"][step],\n",
    "            )\n",
    "        )\n",
    "    print('Final train loss {:.4e} +/- {:.4e}\\nFinal test loss {:.4e} +/- {:.4e}'\n",
    "        .format(results[\"train_loss\"][-1], results[\"train_std\"][-1],\n",
    "                results[\"test_loss\"][-1], results[\"test_std\"][-1]))\n",
    "\n",
    "def print_best(results):\n",
    "    curr_min = 0\n",
    "\n",
    "    for step in range(0, len(results[\"train_loss\"])):\n",
    "        if results[\"test_loss\"][step] < results[\"test_loss\"][curr_min]:\n",
    "            curr_min = step\n",
    "    print(\n",
    "        \"best test loss at step {}, train_loss {:.4e}, test_loss {:.4e}\".format(\n",
    "            curr_min,\n",
    "            results[\"train_loss\"][curr_min],\n",
    "            results[\"test_loss\"][curr_min],\n",
    "        )\n",
    "    )\n"
   ]
  },
  {
   "cell_type": "markdown",
   "metadata": {},
   "source": [
    "## Create Dataset"
   ]
  },
  {
   "cell_type": "code",
   "execution_count": 8,
   "metadata": {},
   "outputs": [],
   "source": [
    "# create dataset\n",
    "data = get_dataset(seed=0)\n",
    "device = torch.device(\"cuda\" if torch.cuda.is_available() else \"cpu\")\n",
    "x = torch.tensor(data[\"x\"], requires_grad=True, dtype=torch.float32).to(device)\n",
    "test_x = torch.tensor(data[\"test_x\"], requires_grad=True, dtype=torch.float32).to(device)\n",
    "dxdt = torch.Tensor(data[\"dx\"]).to(device)\n",
    "test_dxdt = torch.Tensor(data[\"test_dx\"]).to(device)\n",
    "\n",
    "# dataset['train_input'], dataset['train_label'],dataset['test_input'], dataset['test_label']\n",
    "dataset = {\n",
    "    \"train_input\": x,\n",
    "    \"train_label\": dxdt,\n",
    "    \"test_input\": test_x,\n",
    "    \"test_label\": test_dxdt,\n",
    "}"
   ]
  },
  {
   "cell_type": "code",
   "execution_count": 9,
   "metadata": {},
   "outputs": [
    {
     "data": {
      "text/plain": [
       "(torch.Size([1125, 2]), torch.Size([1125, 2]))"
      ]
     },
     "execution_count": 9,
     "metadata": {},
     "output_type": "execute_result"
    }
   ],
   "source": [
    "dataset[\"train_input\"].shape, dataset[\"train_label\"].shape"
   ]
  },
  {
   "cell_type": "markdown",
   "metadata": {},
   "source": [
    "## Model Training"
   ]
  },
  {
   "cell_type": "code",
   "execution_count": 16,
   "metadata": {},
   "outputs": [
    {
     "name": "stdout",
     "output_type": "stream",
     "text": [
      "cpu\n",
      "checkpoint directory created: ./model\n",
      "saving model version 0.0\n"
     ]
    },
    {
     "name": "stderr",
     "output_type": "stream",
     "text": [
      "| train_loss: 3.28e-02 | test_loss: 3.43e-02 | reg: 1.20e+01 | : 100%|█| 53/53 [00:06<00:00,  8.47it"
     ]
    },
    {
     "name": "stdout",
     "output_type": "stream",
     "text": [
      "saving model version 0.1\n",
      "step 0, train_loss 2.2177e-01, test_loss 2.4829e-01\n",
      "step 1, train_loss 3.6794e-02, test_loss 3.8893e-02\n",
      "step 2, train_loss 3.5242e-02, test_loss 3.9913e-02\n",
      "step 3, train_loss 3.4616e-02, test_loss 4.0011e-02\n",
      "step 4, train_loss 3.4519e-02, test_loss 3.8988e-02\n",
      "step 5, train_loss 3.4693e-02, test_loss 3.8446e-02\n",
      "step 6, train_loss 3.3669e-02, test_loss 3.5374e-02\n",
      "step 7, train_loss 3.3462e-02, test_loss 3.5531e-02\n",
      "step 8, train_loss 3.3360e-02, test_loss 3.5249e-02\n",
      "step 9, train_loss 3.3224e-02, test_loss 3.5908e-02\n",
      "step 10, train_loss 3.4637e-02, test_loss 3.8893e-02\n",
      "step 11, train_loss 3.4555e-02, test_loss 3.8958e-02\n",
      "step 12, train_loss 3.4308e-02, test_loss 3.7882e-02\n",
      "step 13, train_loss 3.3789e-02, test_loss 3.5607e-02\n",
      "step 14, train_loss 3.3391e-02, test_loss 3.5359e-02\n",
      "step 15, train_loss 3.3695e-02, test_loss 3.6055e-02\n",
      "step 16, train_loss 3.3408e-02, test_loss 3.4925e-02\n",
      "step 17, train_loss 3.3240e-02, test_loss 3.4778e-02\n",
      "step 18, train_loss 3.3118e-02, test_loss 3.4766e-02\n",
      "step 19, train_loss 3.3068e-02, test_loss 3.4671e-02\n",
      "step 20, train_loss 3.3157e-02, test_loss 3.4565e-02\n",
      "step 21, train_loss 3.3061e-02, test_loss 3.4643e-02\n",
      "step 22, train_loss 3.3033e-02, test_loss 3.4666e-02\n",
      "step 23, train_loss 3.3015e-02, test_loss 3.4671e-02\n",
      "step 24, train_loss 3.2979e-02, test_loss 3.4553e-02\n",
      "step 25, train_loss 3.2986e-02, test_loss 3.4541e-02\n",
      "step 26, train_loss 3.2940e-02, test_loss 3.4468e-02\n",
      "step 27, train_loss 3.2910e-02, test_loss 3.4488e-02\n",
      "step 28, train_loss 3.2897e-02, test_loss 3.4473e-02\n",
      "step 29, train_loss 3.2888e-02, test_loss 3.4508e-02\n",
      "step 30, train_loss 3.2971e-02, test_loss 3.4654e-02\n",
      "step 31, train_loss 3.2929e-02, test_loss 3.4403e-02\n",
      "step 32, train_loss 3.2898e-02, test_loss 3.4421e-02\n",
      "step 33, train_loss 3.2869e-02, test_loss 3.4494e-02\n",
      "step 34, train_loss 3.2865e-02, test_loss 3.4479e-02\n",
      "step 35, train_loss 3.2894e-02, test_loss 3.4557e-02\n",
      "step 36, train_loss 3.2863e-02, test_loss 3.4466e-02\n",
      "step 37, train_loss 3.2850e-02, test_loss 3.4374e-02\n",
      "step 38, train_loss 3.2845e-02, test_loss 3.4367e-02\n",
      "step 39, train_loss 3.2838e-02, test_loss 3.4388e-02\n",
      "step 40, train_loss 3.2893e-02, test_loss 3.4364e-02\n",
      "step 41, train_loss 3.2854e-02, test_loss 3.4303e-02\n",
      "step 42, train_loss 3.2847e-02, test_loss 3.4349e-02\n",
      "step 43, train_loss 3.2840e-02, test_loss 3.4367e-02\n",
      "step 44, train_loss 3.2833e-02, test_loss 3.4402e-02\n",
      "step 45, train_loss 3.2965e-02, test_loss 3.4355e-02\n",
      "step 46, train_loss 3.2871e-02, test_loss 3.4395e-02\n",
      "step 47, train_loss 3.2856e-02, test_loss 3.4363e-02\n",
      "step 48, train_loss 3.2847e-02, test_loss 3.4383e-02\n",
      "step 49, train_loss 3.2844e-02, test_loss 3.4409e-02\n",
      "step 50, train_loss 3.2837e-02, test_loss 3.4368e-02\n",
      "step 51, train_loss 3.2833e-02, test_loss 3.4332e-02\n",
      "step 52, train_loss 3.2831e-02, test_loss 3.4297e-02\n",
      "Final train loss 3.2831e-02 +/- 1.7639e-03\n",
      "Final test loss 3.4297e-02 +/- 1.7502e-03\n",
      "best test loss at step 52, train_loss 3.2831e-02, test_loss 3.4297e-02\n"
     ]
    },
    {
     "name": "stderr",
     "output_type": "stream",
     "text": [
      "\n"
     ]
    }
   ],
   "source": [
    "device = torch.device(\"cuda\" if torch.cuda.is_available() else \"cpu\")\n",
    "print(device)\n",
    "\n",
    "# initialize KAN with G=3\n",
    "model = KARHNN(input_dim=2, width=[2, 2, 2], grid=2, k=3, seed=1, device=device)\n",
    "results = model.fit(dataset, opt=\"LBFGS\", steps=53, log=1)\n",
    "print_results(results, 1)\n",
    "print_best(results)"
   ]
  },
  {
   "cell_type": "markdown",
   "metadata": {},
   "source": [
    "![hnn](./hnn.png)\n",
    "![baseline](./baseline.png)\n"
   ]
  },
  {
   "cell_type": "code",
   "execution_count": null,
   "metadata": {},
   "outputs": [],
   "source": []
  }
 ],
 "metadata": {
  "kernelspec": {
   "display_name": "KARHNN",
   "language": "python",
   "name": "python3"
  },
  "language_info": {
   "codemirror_mode": {
    "name": "ipython",
    "version": 3
   },
   "file_extension": ".py",
   "mimetype": "text/x-python",
   "name": "python",
   "nbconvert_exporter": "python",
   "pygments_lexer": "ipython3",
   "version": "3.13.0"
  }
 },
 "nbformat": 4,
 "nbformat_minor": 2
}
