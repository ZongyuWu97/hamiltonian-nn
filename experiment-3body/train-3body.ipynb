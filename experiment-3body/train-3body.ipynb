{
 "cells": [
  {
   "cell_type": "markdown",
   "metadata": {},
   "source": [
    "## Initialization"
   ]
  },
  {
   "cell_type": "code",
   "execution_count": 1,
   "metadata": {},
   "outputs": [],
   "source": [
    "import sys\n",
    "import os\n",
    "\n",
    "# Add the parent directory to sys.path\n",
    "sys.path.append(os.path.abspath(os.path.join('..')))\n",
    "import torch\n",
    "from kar_hnn import KARHNN\n",
    "from data import get_dataset\n",
    "import numpy as np"
   ]
  },
  {
   "cell_type": "markdown",
   "metadata": {},
   "source": [
    "## Help Functions"
   ]
  },
  {
   "cell_type": "code",
   "execution_count": 2,
   "metadata": {},
   "outputs": [],
   "source": [
    "# print squared loss at specific steps for comparison with HNN\n",
    "print_every = 200\n",
    "def print_results(results, print_every=200):\n",
    "    for step in range(0, len(results[\"train_loss\"]), print_every):\n",
    "        print(\n",
    "            \"step {}, train_loss {:.4e}, test_loss {:.4e}\".format(\n",
    "                step,\n",
    "                results[\"train_loss\"][step],\n",
    "                results[\"test_loss\"][step],\n",
    "            )\n",
    "        )\n",
    "    print('Final train loss {:.4e} +/- {:.4e}\\nFinal test loss {:.4e} +/- {:.4e}'\n",
    "        .format(results[\"train_loss\"][-1], results[\"train_std\"][-1],\n",
    "                results[\"test_loss\"][-1], results[\"test_std\"][-1]))\n",
    "\n",
    "def print_best(results):\n",
    "    curr_min = 0\n",
    "\n",
    "    for step in range(0, len(results[\"train_loss\"])):\n",
    "        if results[\"test_loss\"][step] < results[\"test_loss\"][curr_min]:\n",
    "            curr_min = step\n",
    "    print(\n",
    "        \"best test loss at step {}, train_loss {:.4e}, test_loss {:.4e}\".format(\n",
    "            curr_min,\n",
    "            results[\"train_loss\"][curr_min],\n",
    "            results[\"test_loss\"][curr_min],\n",
    "        )\n",
    "    )\n"
   ]
  },
  {
   "cell_type": "markdown",
   "metadata": {},
   "source": [
    "## Create Dataset"
   ]
  },
  {
   "cell_type": "code",
   "execution_count": 3,
   "metadata": {},
   "outputs": [
    {
     "name": "stdout",
     "output_type": "stream",
     "text": [
      "Successfully loaded data from /Users/ZongyuWu/hamiltonian-nn/3body-orbits-dataset.pkl\n"
     ]
    }
   ],
   "source": [
    "# create dataset\n",
    "THIS_DIR = os.path.dirname(os.path.abspath(os.path.join(\".\")))\n",
    "data = get_dataset(\"3body\", THIS_DIR, verbose=True)\n",
    "device = torch.device(\"cuda\" if torch.cuda.is_available() else \"cpu\")\n",
    "x = torch.tensor(data[\"coords\"], requires_grad=True, dtype=torch.float32).to(device)\n",
    "test_x = torch.tensor(data[\"test_coords\"], requires_grad=True, dtype=torch.float32).to(\n",
    "    device\n",
    ")\n",
    "dxdt = torch.Tensor(data[\"dcoords\"]).to(device)\n",
    "test_dxdt = torch.Tensor(data[\"test_dcoords\"]).to(device)\n",
    "\n",
    "# dataset['train_input'], dataset['train_label'],dataset['test_input'], dataset['test_label']\n",
    "dataset = {\n",
    "    \"train_input\": x,\n",
    "    \"train_label\": dxdt,\n",
    "    \"test_input\": test_x,\n",
    "    \"test_label\": test_dxdt,\n",
    "}"
   ]
  },
  {
   "cell_type": "code",
   "execution_count": 4,
   "metadata": {},
   "outputs": [
    {
     "data": {
      "text/plain": [
       "(torch.Size([80000, 12]), torch.Size([80000, 12]))"
      ]
     },
     "execution_count": 4,
     "metadata": {},
     "output_type": "execute_result"
    }
   ],
   "source": [
    "dataset[\"train_input\"].shape, dataset[\"train_label\"].shape"
   ]
  },
  {
   "cell_type": "markdown",
   "metadata": {},
   "source": [
    "## Model Training"
   ]
  },
  {
   "cell_type": "code",
   "execution_count": 5,
   "metadata": {},
   "outputs": [
    {
     "name": "stdout",
     "output_type": "stream",
     "text": [
      "cpu\n",
      "checkpoint directory created: ./model\n",
      "saving model version 0.0\n"
     ]
    },
    {
     "name": "stderr",
     "output_type": "stream",
     "text": [
      "| train_loss: 6.29e-03 | test_loss: 1.79e-02 | reg: 6.27e+01 | : 100%|█| 135/135 [00:13<00:00,  9.65"
     ]
    },
    {
     "name": "stdout",
     "output_type": "stream",
     "text": [
      "saving model version 0.1\n",
      "step 0, train_loss 5.2780e-02, test_loss 1.0126e-01\n",
      "step 1, train_loss 1.2267e-01, test_loss 2.2805e-01\n",
      "step 2, train_loss 5.1074e-02, test_loss 1.2147e-01\n",
      "step 3, train_loss 1.3494e-01, test_loss 3.7432e+00\n",
      "step 4, train_loss 5.1295e-02, test_loss 9.2307e-02\n",
      "step 5, train_loss 1.8527e-02, test_loss 1.1220e-01\n",
      "step 6, train_loss 9.3854e-02, test_loss 3.5640e-01\n",
      "step 7, train_loss 3.0502e-02, test_loss 9.9015e-02\n",
      "step 8, train_loss 2.7513e-02, test_loss 8.0749e-01\n",
      "step 9, train_loss 4.0236e+01, test_loss 7.0406e+00\n",
      "step 10, train_loss 1.7383e-01, test_loss 6.1209e-01\n",
      "step 11, train_loss 3.9431e-02, test_loss 5.6733e-02\n",
      "step 12, train_loss 4.3168e-01, test_loss 3.5526e+00\n",
      "step 13, train_loss 1.3249e-02, test_loss 3.0801e-01\n",
      "step 14, train_loss 8.6957e-03, test_loss 1.4969e-01\n",
      "step 15, train_loss 3.6006e-02, test_loss 2.1405e-01\n",
      "step 16, train_loss 2.1256e-02, test_loss 6.9202e+00\n",
      "step 17, train_loss 6.5108e-01, test_loss 4.3169e-01\n",
      "step 18, train_loss 1.3928e+00, test_loss 3.5063e-01\n",
      "step 19, train_loss 1.5183e-01, test_loss 1.2603e-01\n",
      "step 20, train_loss 2.3263e-02, test_loss 1.3050e-01\n",
      "step 21, train_loss 4.3848e-02, test_loss 3.1853e-01\n",
      "step 22, train_loss 2.3160e-02, test_loss 6.7394e+00\n",
      "step 23, train_loss 2.1839e-02, test_loss 7.8652e-02\n",
      "step 24, train_loss 4.9320e-03, test_loss 1.0256e+00\n",
      "step 25, train_loss 4.2421e-02, test_loss 7.8147e-02\n",
      "step 26, train_loss 4.2014e-01, test_loss 3.4530e-01\n",
      "step 27, train_loss 3.3342e-01, test_loss 2.7084e+00\n",
      "step 28, train_loss 3.5660e-01, test_loss 1.2360e-01\n",
      "step 29, train_loss 2.3091e-02, test_loss 1.2844e-01\n",
      "step 30, train_loss 2.3784e-02, test_loss 7.0811e-02\n",
      "step 31, train_loss 1.1866e-02, test_loss 9.7798e-02\n",
      "step 32, train_loss 2.8431e-02, test_loss 7.4862e-02\n",
      "step 33, train_loss 1.1739e-01, test_loss 1.8134e+00\n",
      "step 34, train_loss 2.3260e-01, test_loss 2.8927e-01\n",
      "step 35, train_loss 1.7387e-02, test_loss 4.3489e-01\n",
      "step 36, train_loss 1.6277e-02, test_loss 4.0048e-02\n",
      "step 37, train_loss 5.3437e-02, test_loss 3.1873e-01\n",
      "step 38, train_loss 7.6405e-03, test_loss 3.0536e+00\n",
      "step 39, train_loss 6.1237e-03, test_loss 9.1869e-02\n",
      "step 40, train_loss 2.4554e-02, test_loss 1.0330e-01\n",
      "step 41, train_loss 4.1214e-02, test_loss 4.6278e-02\n",
      "step 42, train_loss 6.9197e-03, test_loss 1.2518e+02\n",
      "step 43, train_loss 1.1243e-02, test_loss 2.7358e-02\n",
      "step 44, train_loss 1.3043e-02, test_loss 1.1733e-01\n",
      "step 45, train_loss 2.0010e-02, test_loss 2.0701e-01\n",
      "step 46, train_loss 1.4069e-02, test_loss 1.0760e-01\n",
      "step 47, train_loss 4.4589e-02, test_loss 1.2102e-01\n",
      "step 48, train_loss 2.4670e-02, test_loss 5.1012e-01\n",
      "step 49, train_loss 2.2054e-02, test_loss 9.6710e-02\n",
      "step 50, train_loss 3.9072e-03, test_loss 5.7621e-01\n",
      "step 51, train_loss 2.5318e-01, test_loss 1.6158e-01\n",
      "step 52, train_loss 2.9457e-02, test_loss 1.3070e-01\n",
      "step 53, train_loss 1.6364e-02, test_loss 5.4207e-02\n",
      "step 54, train_loss 1.7435e-02, test_loss 2.5904e-01\n",
      "step 55, train_loss 4.8075e-02, test_loss 1.2104e+00\n",
      "step 56, train_loss 6.8793e-03, test_loss 5.4154e-02\n",
      "step 57, train_loss 1.1199e-02, test_loss 2.2070e+00\n",
      "step 58, train_loss 2.9377e-02, test_loss 8.2093e-02\n",
      "step 59, train_loss 8.3366e-03, test_loss 6.9967e-02\n",
      "step 60, train_loss 1.5234e-02, test_loss 7.4973e-02\n",
      "step 61, train_loss 8.8890e-03, test_loss 5.6431e-02\n",
      "step 62, train_loss 6.7046e-03, test_loss 1.8231e-02\n",
      "step 63, train_loss 4.9225e-03, test_loss 5.4412e-01\n",
      "step 64, train_loss 5.8475e-02, test_loss 7.1472e-02\n",
      "step 65, train_loss 8.3434e-03, test_loss 1.9483e-02\n",
      "step 66, train_loss 1.7107e-02, test_loss 2.8126e-01\n",
      "step 67, train_loss 1.0498e-01, test_loss 1.6354e-01\n",
      "step 68, train_loss 8.5880e-03, test_loss 3.4830e-02\n",
      "step 69, train_loss 4.9219e-03, test_loss 6.0698e-01\n",
      "step 70, train_loss 1.1337e-02, test_loss 3.1591e+00\n",
      "step 71, train_loss 3.1824e-02, test_loss 6.6616e-02\n",
      "step 72, train_loss 1.4908e-01, test_loss 2.5494e-01\n",
      "step 73, train_loss 1.9251e-02, test_loss 5.3527e-01\n",
      "step 74, train_loss 4.9573e-03, test_loss 1.1510e+00\n",
      "step 75, train_loss 1.2500e-02, test_loss 8.3717e-02\n",
      "step 76, train_loss 7.4114e-03, test_loss 4.0348e-02\n",
      "step 77, train_loss 1.2482e-02, test_loss 4.6268e-02\n",
      "step 78, train_loss 5.2065e-03, test_loss 1.3460e-01\n",
      "step 79, train_loss 1.1384e-02, test_loss 9.0983e-01\n",
      "step 80, train_loss 2.0361e-02, test_loss 2.6271e-02\n",
      "step 81, train_loss 8.6629e-02, test_loss 9.2845e-02\n",
      "step 82, train_loss 8.1848e-02, test_loss 1.9592e-01\n",
      "step 83, train_loss 2.4662e-02, test_loss 4.6754e-02\n",
      "step 84, train_loss 9.2728e-03, test_loss 1.0773e-01\n",
      "step 85, train_loss 8.3732e-03, test_loss 1.2007e-01\n",
      "step 86, train_loss 4.5399e+00, test_loss 2.1376e-01\n",
      "step 87, train_loss 5.1580e-03, test_loss 3.7525e-02\n",
      "step 88, train_loss 8.8998e-03, test_loss 8.0054e-02\n",
      "step 89, train_loss 1.0450e-02, test_loss 4.1246e-02\n",
      "step 90, train_loss 8.8665e+00, test_loss 3.1005e-01\n",
      "step 91, train_loss 3.2905e-02, test_loss 1.8748e-01\n",
      "step 92, train_loss 5.8136e-03, test_loss 4.1224e-02\n",
      "step 93, train_loss 5.5976e-03, test_loss 1.7265e-01\n",
      "step 94, train_loss 3.8013e-03, test_loss 4.7279e-02\n",
      "step 95, train_loss 5.9873e-03, test_loss 7.4887e-02\n",
      "step 96, train_loss 3.8066e-01, test_loss 1.6298e-01\n",
      "step 97, train_loss 9.4622e-03, test_loss 1.7920e-01\n",
      "step 98, train_loss 4.9558e-03, test_loss 3.6443e-02\n",
      "step 99, train_loss 9.4094e-03, test_loss 2.2600e-01\n",
      "step 100, train_loss 4.2710e-03, test_loss 1.4084e-01\n",
      "step 101, train_loss 5.3932e-03, test_loss 8.1031e-01\n",
      "step 102, train_loss 1.1335e-02, test_loss 1.0252e-01\n",
      "step 103, train_loss 9.5988e-03, test_loss 6.9140e-02\n",
      "step 104, train_loss 8.7185e-03, test_loss 4.6610e-01\n",
      "step 105, train_loss 2.0579e-02, test_loss 2.8897e-02\n",
      "step 106, train_loss 3.4845e-01, test_loss 1.8911e-01\n",
      "step 107, train_loss 3.5219e-02, test_loss 7.8165e-02\n",
      "step 108, train_loss 1.0226e-01, test_loss 5.8072e-02\n",
      "step 109, train_loss 9.1303e-02, test_loss 3.3590e+00\n",
      "step 110, train_loss 2.6570e-02, test_loss 2.8463e-02\n",
      "step 111, train_loss 2.3334e-02, test_loss 6.5024e-02\n",
      "step 112, train_loss 1.7269e-02, test_loss 2.8106e-01\n",
      "step 113, train_loss 5.2264e-03, test_loss 1.3834e-01\n",
      "step 114, train_loss 3.1265e-02, test_loss 8.9703e-02\n",
      "step 115, train_loss 2.0164e-02, test_loss 8.5124e-02\n",
      "step 116, train_loss 3.8135e-01, test_loss 5.0899e-01\n",
      "step 117, train_loss 9.4283e-02, test_loss 7.6924e-02\n",
      "step 118, train_loss 8.8664e-02, test_loss 2.3242e-01\n",
      "step 119, train_loss 4.8966e-02, test_loss 5.8439e-02\n",
      "step 120, train_loss 4.9524e-01, test_loss 2.7998e-01\n",
      "step 121, train_loss 5.3814e-03, test_loss 4.3200e-02\n",
      "step 122, train_loss 5.3209e-03, test_loss 5.0306e-01\n",
      "step 123, train_loss 3.7133e-02, test_loss 1.2308e-01\n",
      "step 124, train_loss 6.3604e-02, test_loss 4.9107e-01\n",
      "step 125, train_loss 2.2020e-02, test_loss 1.2644e+00\n",
      "step 126, train_loss 3.8482e-02, test_loss 2.6562e-02\n",
      "step 127, train_loss 9.7443e-01, test_loss 3.7506e-01\n",
      "step 128, train_loss 8.6977e-02, test_loss 1.1924e-01\n",
      "step 129, train_loss 2.1143e-02, test_loss 7.9230e-02\n",
      "step 130, train_loss 2.5448e+01, test_loss 8.9314e-01\n",
      "step 131, train_loss 4.2108e-02, test_loss 3.1686e+00\n",
      "step 132, train_loss 4.2911e-02, test_loss 1.5712e-01\n",
      "step 133, train_loss 3.4091e-02, test_loss 3.7182e-01\n",
      "step 134, train_loss 6.2878e-03, test_loss 1.7907e-02\n",
      "Final train loss 6.2878e-03 +/- 2.4885e-03\n",
      "Final test loss 1.7907e-02 +/- 1.3848e-02\n",
      "best test loss at step 134, train_loss 6.2878e-03, test_loss 1.7907e-02\n"
     ]
    },
    {
     "name": "stderr",
     "output_type": "stream",
     "text": [
      "\n"
     ]
    }
   ],
   "source": [
    "device = torch.device(\"cuda\" if torch.cuda.is_available() else \"cpu\")\n",
    "print(device)\n",
    "\n",
    "# initialize KAN with G=3\n",
    "model = KARHNN(\n",
    "    input_dim=3 * 4, width=[3 * 4, 15, 10, 2], grid=2, \n",
    "    k=3, seed=42, device=device\n",
    ")\n",
    "results = model.fit(dataset, opt=\"LBFGS\", steps=135, log=1, batch=50)\n",
    "print_results(results, 1)\n",
    "print_best(results)"
   ]
  },
  {
   "cell_type": "markdown",
   "metadata": {},
   "source": [
    "![hnn](./hnn.png)\n",
    "![baseline](./baseline.png)\n"
   ]
  },
  {
   "cell_type": "markdown",
   "metadata": {},
   "source": []
  }
 ],
 "metadata": {
  "kernelspec": {
   "display_name": "KARHNN",
   "language": "python",
   "name": "python3"
  },
  "language_info": {
   "codemirror_mode": {
    "name": "ipython",
    "version": 3
   },
   "file_extension": ".py",
   "mimetype": "text/x-python",
   "name": "python",
   "nbconvert_exporter": "python",
   "pygments_lexer": "ipython3",
   "version": "3.13.0"
  }
 },
 "nbformat": 4,
 "nbformat_minor": 2
}
