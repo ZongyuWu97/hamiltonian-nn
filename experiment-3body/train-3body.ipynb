{
 "cells": [
  {
   "cell_type": "markdown",
   "metadata": {},
   "source": [
    "## Initialization"
   ]
  },
  {
   "cell_type": "code",
   "execution_count": 1,
   "metadata": {},
   "outputs": [],
   "source": [
    "import sys\n",
    "import os\n",
    "\n",
    "# Add the parent directory to sys.path\n",
    "sys.path.append(os.path.abspath(os.path.join('..')))\n",
    "import torch\n",
    "from kan_hnn import KANHNN\n",
    "from data import get_dataset"
   ]
  },
  {
   "cell_type": "markdown",
   "metadata": {},
   "source": [
    "## Help Functions"
   ]
  },
  {
   "cell_type": "code",
   "execution_count": 2,
   "metadata": {},
   "outputs": [],
   "source": [
    "# print squared loss at specific steps for comparison with HNN\n",
    "print_every = 200\n",
    "def print_results(results, print_every=200):\n",
    "    for step in range(0, len(results[\"train_loss\"]), print_every):\n",
    "        print(\n",
    "            \"step {}, train_loss {:.4e}, test_loss {:.4e}\".format(\n",
    "                step,\n",
    "                results[\"train_loss\"][step],\n",
    "                results[\"test_loss\"][step],\n",
    "            )\n",
    "        )"
   ]
  },
  {
   "cell_type": "markdown",
   "metadata": {},
   "source": [
    "## Create Dataset"
   ]
  },
  {
   "cell_type": "code",
   "execution_count": 7,
   "metadata": {},
   "outputs": [
    {
     "name": "stdout",
     "output_type": "stream",
     "text": [
      "Had a problem loading data from /Users/ZongyuWu/hamiltonian-nn/3body-orbits-dataset.pkl. Rebuilding dataset...\n",
      "Making a dataset of near-circular 3-body orbits:\n"
     ]
    }
   ],
   "source": [
    "# create dataset\n",
    "THIS_DIR = os.path.dirname(os.path.abspath(os.path.join(\".\")))\n",
    "data = get_dataset(\"3body\", THIS_DIR, verbose=True)\n",
    "device = torch.device(\"cuda\" if torch.cuda.is_available() else \"cpu\")\n",
    "x = torch.tensor(data[\"coords\"], requires_grad=True, dtype=torch.float32).to(device)\n",
    "test_x = torch.tensor(data[\"test_coords\"], requires_grad=True, dtype=torch.float32).to(\n",
    "    device\n",
    ")\n",
    "dxdt = torch.Tensor(data[\"dcoords\"]).to(device)\n",
    "test_dxdt = torch.Tensor(data[\"test_dcoords\"]).to(device)\n",
    "\n",
    "# dataset['train_input'], dataset['train_label'],dataset['test_input'], dataset['test_label']\n",
    "dataset = {\n",
    "    \"train_input\": x,\n",
    "    \"train_label\": dxdt,\n",
    "    \"test_input\": test_x,\n",
    "    \"test_label\": test_dxdt,\n",
    "}"
   ]
  },
  {
   "cell_type": "code",
   "execution_count": 8,
   "metadata": {},
   "outputs": [
    {
     "data": {
      "text/plain": [
       "(torch.Size([80000, 12]), torch.Size([80000, 12]))"
      ]
     },
     "execution_count": 8,
     "metadata": {},
     "output_type": "execute_result"
    }
   ],
   "source": [
    "dataset[\"train_input\"].shape, dataset[\"train_label\"].shape"
   ]
  },
  {
   "cell_type": "markdown",
   "metadata": {},
   "source": [
    "## Model Training"
   ]
  },
  {
   "cell_type": "code",
   "execution_count": 13,
   "metadata": {},
   "outputs": [
    {
     "name": "stdout",
     "output_type": "stream",
     "text": [
      "cpu\n",
      "checkpoint directory created: ./model\n",
      "saving model version 0.0\n"
     ]
    },
    {
     "name": "stderr",
     "output_type": "stream",
     "text": [
      "| train_loss: 2.50e-01 | test_loss: 2.29e+00 | reg: 6.68e+01 | : 100%|█| 1000/1000 [4:02:23<00:00, 1"
     ]
    },
    {
     "name": "stdout",
     "output_type": "stream",
     "text": [
      "saving model version 0.1\n",
      "step 0, train_loss 1.2757e+00, test_loss 1.6304e+00\n",
      "step 10, train_loss 1.1208e+00, test_loss 1.4765e+00\n",
      "step 20, train_loss 1.1268e+00, test_loss 1.4892e+00\n",
      "step 30, train_loss 1.0744e+00, test_loss 1.4709e+00\n",
      "step 40, train_loss 1.0477e+00, test_loss 1.4713e+00\n",
      "step 50, train_loss 7.1929e-01, test_loss 2.1374e+00\n",
      "step 60, train_loss 5.2053e-01, test_loss 1.2481e+00\n",
      "step 70, train_loss 4.6048e-01, test_loss 1.1741e+00\n",
      "step 80, train_loss 4.2788e-01, test_loss 3.7858e+00\n",
      "step 90, train_loss 4.0516e-01, test_loss 2.3730e+00\n",
      "step 100, train_loss 3.8802e-01, test_loss 3.4751e+00\n",
      "step 110, train_loss 3.7514e-01, test_loss 3.6027e+00\n",
      "step 120, train_loss 3.6573e-01, test_loss 1.6249e+00\n",
      "step 130, train_loss 3.5841e-01, test_loss 1.6473e+00\n",
      "step 140, train_loss 3.5334e-01, test_loss 1.6268e+00\n",
      "step 150, train_loss 3.4778e-01, test_loss 1.8312e+00\n",
      "step 160, train_loss 3.4382e-01, test_loss 1.8465e+00\n",
      "step 170, train_loss 3.4088e-01, test_loss 1.9071e+00\n",
      "step 180, train_loss 3.3851e-01, test_loss 1.9055e+00\n",
      "step 190, train_loss 3.3664e-01, test_loss 1.9264e+00\n",
      "step 200, train_loss 3.3426e-01, test_loss 1.9590e+00\n",
      "step 210, train_loss 3.3215e-01, test_loss 1.9113e+00\n",
      "step 220, train_loss 3.2996e-01, test_loss 1.9109e+00\n",
      "step 230, train_loss 3.2661e-01, test_loss 1.9130e+00\n",
      "step 240, train_loss 3.2436e-01, test_loss 1.8486e+00\n",
      "step 250, train_loss 3.2244e-01, test_loss 1.7937e+00\n",
      "step 260, train_loss 3.2021e-01, test_loss 1.7069e+00\n",
      "step 270, train_loss 3.1701e-01, test_loss 1.6209e+00\n",
      "step 280, train_loss 3.1449e-01, test_loss 1.6146e+00\n",
      "step 290, train_loss 3.1168e-01, test_loss 2.1085e+00\n",
      "step 300, train_loss 3.0797e-01, test_loss 2.4524e+00\n",
      "step 310, train_loss 3.0501e-01, test_loss 1.8857e+00\n",
      "step 320, train_loss 3.0264e-01, test_loss 2.2306e+00\n",
      "step 330, train_loss 3.0043e-01, test_loss 5.0667e+00\n",
      "step 340, train_loss 2.9925e-01, test_loss 5.4025e+00\n",
      "step 350, train_loss 2.9842e-01, test_loss 5.3001e+00\n",
      "step 360, train_loss 2.9743e-01, test_loss 4.8833e+00\n",
      "step 370, train_loss 2.9600e-01, test_loss 2.2149e+00\n",
      "step 380, train_loss 2.9443e-01, test_loss 1.6482e+00\n",
      "step 390, train_loss 2.9323e-01, test_loss 1.5446e+00\n",
      "step 400, train_loss 2.9208e-01, test_loss 1.5415e+00\n",
      "step 410, train_loss 2.9066e-01, test_loss 1.7157e+00\n",
      "step 420, train_loss 2.8923e-01, test_loss 2.0074e+00\n",
      "step 430, train_loss 2.8784e-01, test_loss 7.2522e+00\n",
      "step 440, train_loss 2.8661e-01, test_loss 6.5625e+00\n",
      "step 450, train_loss 2.8573e-01, test_loss 5.4217e+00\n",
      "step 460, train_loss 2.8520e-01, test_loss 6.0027e+00\n",
      "step 470, train_loss 2.8455e-01, test_loss 6.8193e+00\n",
      "step 480, train_loss 2.8391e-01, test_loss 5.4389e+00\n",
      "step 490, train_loss 2.8346e-01, test_loss 5.6313e+00\n",
      "step 500, train_loss 2.8310e-01, test_loss 5.3851e+00\n",
      "step 510, train_loss 2.8275e-01, test_loss 5.6906e+00\n",
      "step 520, train_loss 2.8136e-01, test_loss 2.8354e+00\n",
      "step 530, train_loss 2.7977e-01, test_loss 2.7922e+00\n",
      "step 540, train_loss 2.7900e-01, test_loss 2.3895e+00\n",
      "step 550, train_loss 2.7836e-01, test_loss 2.3545e+00\n",
      "step 560, train_loss 2.7789e-01, test_loss 2.3790e+00\n",
      "step 570, train_loss 2.7763e-01, test_loss 2.3167e+00\n",
      "step 580, train_loss 2.7716e-01, test_loss 2.3205e+00\n",
      "step 590, train_loss 2.7615e-01, test_loss 3.3900e+00\n",
      "step 600, train_loss 2.7501e-01, test_loss 3.1906e+00\n",
      "step 610, train_loss 2.7425e-01, test_loss 6.6512e+00\n",
      "step 620, train_loss 2.7350e-01, test_loss 9.3394e+00\n",
      "step 630, train_loss 2.7303e-01, test_loss 4.8070e+00\n",
      "step 640, train_loss 2.7256e-01, test_loss 8.2864e+00\n",
      "step 650, train_loss 2.7209e-01, test_loss 1.3376e+01\n",
      "step 660, train_loss 2.7153e-01, test_loss 3.3410e+01\n",
      "step 670, train_loss 2.7110e-01, test_loss 3.6271e+01\n",
      "step 680, train_loss 2.7059e-01, test_loss 2.0379e+01\n",
      "step 690, train_loss 2.6992e-01, test_loss 1.2911e+01\n",
      "step 700, train_loss 2.6905e-01, test_loss 3.0541e+00\n",
      "step 710, train_loss 2.6846e-01, test_loss 9.5700e+00\n",
      "step 720, train_loss 2.6797e-01, test_loss 8.1015e+00\n",
      "step 730, train_loss 2.6762e-01, test_loss 1.1709e+01\n",
      "step 740, train_loss 2.6743e-01, test_loss 1.2515e+01\n",
      "step 750, train_loss 2.6714e-01, test_loss 1.2849e+01\n",
      "step 760, train_loss 2.6651e-01, test_loss 7.9434e+00\n",
      "step 770, train_loss 2.6532e-01, test_loss 2.9286e+00\n",
      "step 780, train_loss 2.6446e-01, test_loss 2.7497e+00\n",
      "step 790, train_loss 2.6355e-01, test_loss 2.8899e+00\n",
      "step 800, train_loss 2.6274e-01, test_loss 2.8245e+00\n",
      "step 810, train_loss 2.6179e-01, test_loss 2.5219e+00\n",
      "step 820, train_loss 2.6068e-01, test_loss 2.6357e+00\n",
      "step 830, train_loss 2.5970e-01, test_loss 2.6841e+00\n",
      "step 840, train_loss 2.5860e-01, test_loss 2.4444e+00\n",
      "step 850, train_loss 2.5745e-01, test_loss 2.3185e+00\n",
      "step 860, train_loss 2.5637e-01, test_loss 2.2531e+00\n",
      "step 870, train_loss 2.5552e-01, test_loss 2.1853e+00\n",
      "step 880, train_loss 2.5460e-01, test_loss 2.1816e+00\n",
      "step 890, train_loss 2.5386e-01, test_loss 2.0728e+00\n",
      "step 900, train_loss 2.5334e-01, test_loss 2.0163e+00\n",
      "step 910, train_loss 2.5296e-01, test_loss 2.0778e+00\n",
      "step 920, train_loss 2.5255e-01, test_loss 2.2069e+00\n",
      "step 930, train_loss 2.5213e-01, test_loss 2.2410e+00\n",
      "step 940, train_loss 2.5170e-01, test_loss 2.2064e+00\n",
      "step 950, train_loss 2.5136e-01, test_loss 2.1895e+00\n",
      "step 960, train_loss 2.5086e-01, test_loss 2.1764e+00\n",
      "step 970, train_loss 2.5039e-01, test_loss 2.1926e+00\n",
      "step 980, train_loss 2.5011e-01, test_loss 2.2729e+00\n",
      "step 990, train_loss 2.4987e-01, test_loss 2.2771e+00\n"
     ]
    },
    {
     "name": "stderr",
     "output_type": "stream",
     "text": [
      "\n"
     ]
    }
   ],
   "source": [
    "device = torch.device(\"cuda\" if torch.cuda.is_available() else \"cpu\")\n",
    "print(device)\n",
    "\n",
    "# initialize KAN with G=3\n",
    "model = KANHNN(\n",
    "    input_dim=3 * 4, width=[3 * 4, 6, 4, 4, 2], grid=3, k=3, seed=42, device=device\n",
    ")\n",
    "results = model.fit(dataset, opt=\"LBFGS\", steps=1000, log=1)\n",
    "print_results(results, 10)"
   ]
  },
  {
   "cell_type": "code",
   "execution_count": 10,
   "metadata": {},
   "outputs": [
    {
     "ename": "IndexError",
     "evalue": "list index out of range",
     "output_type": "error",
     "traceback": [
      "\u001b[0;31m---------------------------------------------------------------------------\u001b[0m",
      "\u001b[0;31mIndexError\u001b[0m                                Traceback (most recent call last)",
      "Cell \u001b[0;32mIn[10], line 1\u001b[0m\n\u001b[0;32m----> 1\u001b[0m \u001b[43mmodel\u001b[49m\u001b[38;5;241;43m.\u001b[39;49m\u001b[43mattribute\u001b[49m\u001b[43m(\u001b[49m\u001b[43m)\u001b[49m\n\u001b[1;32m      2\u001b[0m \u001b[38;5;28mprint\u001b[39m(model\u001b[38;5;241m.\u001b[39mnode_scores)\n\u001b[1;32m      3\u001b[0m model\u001b[38;5;241m.\u001b[39mplot()\n",
      "File \u001b[0;32m~/miniforge3/envs/HNN/lib/python3.13/site-packages/kan/MultKAN.py:2005\u001b[0m, in \u001b[0;36mMultKAN.attribute\u001b[0;34m(self, l, i, out_score, plot)\u001b[0m\n\u001b[1;32m   2002\u001b[0m subnode_scores\u001b[38;5;241m.\u001b[39mappend(subnode_score)\n\u001b[1;32m   2003\u001b[0m \u001b[38;5;66;03m# subnode to edge\u001b[39;00m\n\u001b[1;32m   2004\u001b[0m \u001b[38;5;66;03m#print(self.edge_actscale[l-1].device, subnode_score.device, self.subnode_actscale[l-1].device)\u001b[39;00m\n\u001b[0;32m-> 2005\u001b[0m edge_score \u001b[38;5;241m=\u001b[39m torch\u001b[38;5;241m.\u001b[39meinsum(\u001b[38;5;124m'\u001b[39m\u001b[38;5;124mij,ki,i->kij\u001b[39m\u001b[38;5;124m'\u001b[39m, \u001b[38;5;28;43mself\u001b[39;49m\u001b[38;5;241;43m.\u001b[39;49m\u001b[43medge_actscale\u001b[49m\u001b[43m[\u001b[49m\u001b[43ml\u001b[49m\u001b[38;5;241;43m-\u001b[39;49m\u001b[38;5;241;43m1\u001b[39;49m\u001b[43m]\u001b[49m, subnode_score\u001b[38;5;241m.\u001b[39mto(device), \u001b[38;5;241m1\u001b[39m\u001b[38;5;241m/\u001b[39m(\u001b[38;5;28mself\u001b[39m\u001b[38;5;241m.\u001b[39msubnode_actscale[l\u001b[38;5;241m-\u001b[39m\u001b[38;5;241m1\u001b[39m]\u001b[38;5;241m+\u001b[39m\u001b[38;5;241m1e-4\u001b[39m))\n\u001b[1;32m   2006\u001b[0m edge_scores\u001b[38;5;241m.\u001b[39mappend(edge_score)\n\u001b[1;32m   2008\u001b[0m \u001b[38;5;66;03m# edge to node\u001b[39;00m\n",
      "\u001b[0;31mIndexError\u001b[0m: list index out of range"
     ]
    }
   ],
   "source": [
    "model.attribute()\n",
    "print(model.node_scores)\n",
    "model.plot()"
   ]
  },
  {
   "cell_type": "code",
   "execution_count": null,
   "metadata": {},
   "outputs": [
    {
     "name": "stdout",
     "output_type": "stream",
     "text": [
      "saving model version 0.2\n"
     ]
    },
    {
     "data": {
      "image/png": "[encoded data removed]",
      "text/plain": [
       "<Figure size 500x400 with 8 Axes>"
      ]
     },
     "metadata": {},
     "output_type": "display_data"
    }
   ],
   "source": [
    "model = model.prune_node(threshold=1e-1)\n",
    "model.plot()"
   ]
  },
  {
   "cell_type": "code",
   "execution_count": null,
   "metadata": {},
   "outputs": [
    {
     "name": "stdout",
     "output_type": "stream",
     "text": [
      "r2 is 0.9998692274093628\n",
      "saving model version 0.3\n",
      "r2 is 0.9997871518135071\n",
      "saving model version 0.4\n",
      "Best value at boundary.\n",
      "r2 is 0.9996123313903809\n",
      "saving model version 0.5\n",
      "r2 is 0.9998849630355835\n",
      "saving model version 0.6\n"
     ]
    }
   ],
   "source": [
    "mode = \"manual\"  # \"manual\"\n",
    "\n",
    "if mode == \"manual\":\n",
    "    # manual mode\n",
    "    model.fix_symbolic(0, 0, 0, \"x^2\")\n",
    "    model.fix_symbolic(0, 1, 0, \"x^2\")\n",
    "    model.fix_symbolic(1, 0, 0, \"x\")\n",
    "    model.fix_symbolic(1, 0, 1, \"x\")\n",
    "elif mode == \"auto\":\n",
    "    # automatic mode\n",
    "    lib = [\"x\", \"x^2\", \"x^3\", \"x^4\", \"sqrt\", \"tanh\", \"sin\", \"abs\"]\n",
    "    model.auto_symbolic(lib=lib)"
   ]
  },
  {
   "cell_type": "code",
   "execution_count": null,
   "metadata": {},
   "outputs": [
    {
     "data": {
      "text/plain": [
       "[-0.0255*(x_1 + 0.0005)**2 - 0.0258*(x_2 - 0.0056)**2 - 0.0127,\n",
       " 0.9815*(x_1 + 0.0005)**2 + 0.9925*(x_2 - 0.0056)**2 - 0.8103]"
      ]
     },
     "execution_count": 14,
     "metadata": {},
     "output_type": "execute_result"
    }
   ],
   "source": [
    "from kan.utils import ex_round\n",
    "\n",
    "[ex_round(y, 4) for y in model.symbolic_formula()[0]]"
   ]
  },
  {
   "cell_type": "markdown",
   "metadata": {},
   "source": [
    "![hnn](./hnn.png)\n",
    "![baseline](./baseline.png)\n"
   ]
  },
  {
   "cell_type": "markdown",
   "metadata": {},
   "source": []
  }
 ],
 "metadata": {
  "kernelspec": {
   "display_name": "HNN",
   "language": "python",
   "name": "python3"
  },
  "language_info": {
   "codemirror_mode": {
    "name": "ipython",
    "version": 3
   },
   "file_extension": ".py",
   "mimetype": "text/x-python",
   "name": "python",
   "nbconvert_exporter": "python",
   "pygments_lexer": "ipython3",
   "version": "3.13.0"
  }
 },
 "nbformat": 4,
 "nbformat_minor": 2
}
